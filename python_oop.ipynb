{
  "nbformat": 4,
  "nbformat_minor": 0,
  "metadata": {
    "colab": {
      "provenance": []
    },
    "kernelspec": {
      "name": "python3",
      "display_name": "Python 3"
    },
    "language_info": {
      "name": "python"
    }
  },
  "cells": [
    {
      "cell_type": "code",
      "source": [
        "from abc import ABC, abstractmethod"
      ],
      "metadata": {
        "id": "CApgn_icflRF"
      },
      "execution_count": null,
      "outputs": []
    },
    {
      "cell_type": "code",
      "source": [
        "class Pizza(ABC):\n",
        "  @abstractmethod\n",
        "  def get_description(self): print(\"this function gives the information about a pizza\")\n",
        "  @abstractmethod\n",
        "  def get_cost(self): print(\"this function gives the cost value for sauce\")"
      ],
      "metadata": {
        "id": "aEqDyfSw2XbN"
      },
      "execution_count": null,
      "outputs": []
    },
    {
      "cell_type": "code",
      "source": [
        "class Klasik_Pizza(Pizza):\n",
        "  def __init__(self):\n",
        "    print(\"klasik pizza seçildi\")\n",
        "  def get_description(self):\n",
        "    return \"klasik pizza\"\n",
        "  def get_cost(self):\n",
        "    return 50"
      ],
      "metadata": {
        "id": "U3yqO16G2v2f"
      },
      "execution_count": null,
      "outputs": []
    },
    {
      "cell_type": "code",
      "source": [
        "class Margarita_Pizza(Pizza):\n",
        "  def __init__(self):\n",
        "    print(\"margarita pizza seçildi\")\n",
        "  def get_description(self):\n",
        "    return \"marg pizza\"\n",
        "  def get_cost(self):\n",
        "    return 45\n"
      ],
      "metadata": {
        "id": "HdFmMs-43Uhe"
      },
      "execution_count": null,
      "outputs": []
    },
    {
      "cell_type": "code",
      "source": [
        "class Turk_Pizza(Pizza):\n",
        "  def __init__(self):\n",
        "    print(\"türk pizza seçildi\")\n",
        "  def get_description(self):\n",
        "    return \"turk pizza\"\n",
        "  def get_cost(self):\n",
        "    return 60"
      ],
      "metadata": {
        "id": "XDzDmU9i3Y6f"
      },
      "execution_count": null,
      "outputs": []
    },
    {
      "cell_type": "code",
      "source": [
        "class Sade_Pizza(Pizza):\n",
        "  def __init__(self):\n",
        "    print(\"sade pizza seçildi\")\n",
        "  def get_description(self):\n",
        "    return \"sade pizza\"\n",
        "  def get_cost(self):\n",
        "    return 40"
      ],
      "metadata": {
        "id": "smDfhtIy3ZaX"
      },
      "execution_count": null,
      "outputs": []
    },
    {
      "cell_type": "code",
      "source": [
        "class Decorator(Pizza):\n",
        "    def get_description(self):\n",
        "        pass\n",
        "\n",
        "    def get_cost(self):\n",
        "        pass\n",
        "\n",
        "\n",
        "class Barbeku_Sos(Decorator):\n",
        "    def get_description(self):\n",
        "        return \"bu bir barbeku sostur\"\n",
        "\n",
        "    def get_cost(self):\n",
        "        return 10\n",
        "\n",
        "\n",
        "class Ranch_Sos(Decorator):\n",
        "    def get_description(self):\n",
        "        return \"bu bir Ranch sostur\"\n",
        "\n",
        "    def get_cost(self):\n",
        "        return 10"
      ],
      "metadata": {
        "id": "4b6tsxtKZIhM"
      },
      "execution_count": null,
      "outputs": []
    },
    {
      "cell_type": "code",
      "source": [
        "import datetime \n",
        "import pandas as pd\n",
        "import csv\n",
        "\n",
        "\n",
        "\n",
        "zaman = datetime.date.today()\n",
        "\n",
        "secim = int(input(\"bir pizza seçiniz\\n1.Klasik\\n2.Margarita\\n3.Türk\\n4.Sade\"))\n",
        "secti_mi = False\n",
        "liste = []\n",
        "\n",
        "while secti_mi is False:\n",
        "    if secim == 1:\n",
        "        k1 = Klasik_Pizza()\n",
        "        secti_mi = True\n",
        "        liste.append(k1)\n",
        "    elif secim == 2:\n",
        "        m1 = Margarita_Pizza()\n",
        "        secti_mi = True\n",
        "        liste.append(m1)\n",
        "    elif secim == 3:\n",
        "        t1 = Turk_Pizza()\n",
        "        secti_mi = True\n",
        "        liste.append(t1)\n",
        "    elif secim == 4:\n",
        "        s1 = Sade_Pizza()\n",
        "        secti_mi = True\n",
        "        liste.append(s1)\n",
        "    else: print(\"tekrar seçim yapınız\")\n",
        "secti_mi = False\n",
        "sos_secim = int(input(\"bir sos seçiniz\\n1.Barbeku\\n2.Ranch\"))\n",
        "\n",
        "while secti_mi is False:\n",
        "    if sos_secim == 1:\n",
        "        b1 = Barbeku_Sos()\n",
        "        liste.append(b1)\n",
        "        secti_mi = True\n",
        "    elif sos_secim==2:\n",
        "        r1 = Ranch_Sos()\n",
        "        liste.append(r1)\n",
        "        secti_mi = True\n",
        "    else: print(\"tekrar seçim yapınız\")\n",
        "\n",
        "aciklama = []\n",
        "fiyat = 0\n",
        "for nesne in liste:\n",
        "    aciklama.append(nesne.get_description())\n",
        "    fiyat += nesne.get_cost()\n"
      ],
      "metadata": {
        "colab": {
          "base_uri": "https://localhost:8080/"
        },
        "id": "3v4OYdrl_ng8",
        "outputId": "e5f52f3a-6e0f-40ba-a85b-ee758bc848c7"
      },
      "execution_count": null,
      "outputs": [
        {
          "name": "stdout",
          "output_type": "stream",
          "text": [
            "bir pizza seçiniz\n",
            "1.Klasik\n",
            "2.Margarita\n",
            "3.Türk\n",
            "4.Sade1\n",
            "klasik pizza seçildi\n",
            "bir sos seçiniz\n",
            "1.Barbeku\n",
            "2.Ranch1\n"
          ]
        }
      ]
    },
    {
      "cell_type": "code",
      "source": [
        "print(\"----------------------------\")\n",
        "print(\"lutfen ucretinizi odeyiniz.\")\n",
        "kullanici_adi = input(\"Kullanici adinizi giriniz: \")\n",
        "kimlik = int(input(\"kimlik bilgilerinizi giriniz: \"))\n",
        "kk = int(input(\"Kredi karti bilgilerinizi giriniz: \"))\n",
        "kk_sifre = int(input(\"sifreniz: \"))"
      ],
      "metadata": {
        "colab": {
          "base_uri": "https://localhost:8080/"
        },
        "id": "vLf8IkXmBy8q",
        "outputId": "ffb64749-43cc-4e14-f85a-181a1789570d"
      },
      "execution_count": null,
      "outputs": [
        {
          "name": "stdout",
          "output_type": "stream",
          "text": [
            "----------------------------\n",
            "lutfen ucretinizi odeyiniz.\n",
            "Kullanici adinizi giriniz: yunus\n",
            "kimlik bilgilerinizi giriniz: 12345\n",
            "Kredi karti bilgilerinizi giriniz: 4345\n",
            "sifreniz: 1508\n"
          ]
        }
      ]
    },
    {
      "cell_type": "code",
      "source": [
        "with open(\"kayit.csv\",\"w\") as csvfile:\n",
        "    csv_writer = csv.writer(csvfile, delimiter=\",\")\n",
        "    csv_writer.writerow(['kullanici adi', 'kimlik', 'kredi karti', 'siparis aciklamasi','siparis zamani','kk sifre'])\n",
        "    csv_writer.writerow([kullanici_adi, kimlik, kk, aciklama, zaman, kk_sifre  ])\n"
      ],
      "metadata": {
        "id": "N3O3UIMTheWN"
      },
      "execution_count": null,
      "outputs": []
    },
    {
      "cell_type": "code",
      "source": [
        "dataframe=pd.read_csv(\"/content/kayit.csv\")\n",
        "dataframe.head()"
      ],
      "metadata": {
        "colab": {
          "base_uri": "https://localhost:8080/",
          "height": 81
        },
        "id": "_jPAMtMaaQBV",
        "outputId": "6a51472c-98ae-47db-f75e-314f4a697f4d"
      },
      "execution_count": null,
      "outputs": [
        {
          "output_type": "execute_result",
          "data": {
            "text/plain": [
              "  kullanici adi  kimlik  kredi karti  \\\n",
              "0         yunus   12345         4345   \n",
              "\n",
              "                          siparis aciklamasi siparis zamani  kk sifre  \n",
              "0  ['klasik pizza', 'bu bir barbeku sostur']     2023-03-04      1508  "
            ],
            "text/html": [
              "\n",
              "  <div id=\"df-3d4376c2-b131-4c18-b6a1-c915ff2ffa68\">\n",
              "    <div class=\"colab-df-container\">\n",
              "      <div>\n",
              "<style scoped>\n",
              "    .dataframe tbody tr th:only-of-type {\n",
              "        vertical-align: middle;\n",
              "    }\n",
              "\n",
              "    .dataframe tbody tr th {\n",
              "        vertical-align: top;\n",
              "    }\n",
              "\n",
              "    .dataframe thead th {\n",
              "        text-align: right;\n",
              "    }\n",
              "</style>\n",
              "<table border=\"1\" class=\"dataframe\">\n",
              "  <thead>\n",
              "    <tr style=\"text-align: right;\">\n",
              "      <th></th>\n",
              "      <th>kullanici adi</th>\n",
              "      <th>kimlik</th>\n",
              "      <th>kredi karti</th>\n",
              "      <th>siparis aciklamasi</th>\n",
              "      <th>siparis zamani</th>\n",
              "      <th>kk sifre</th>\n",
              "    </tr>\n",
              "  </thead>\n",
              "  <tbody>\n",
              "    <tr>\n",
              "      <th>0</th>\n",
              "      <td>yunus</td>\n",
              "      <td>12345</td>\n",
              "      <td>4345</td>\n",
              "      <td>['klasik pizza', 'bu bir barbeku sostur']</td>\n",
              "      <td>2023-03-04</td>\n",
              "      <td>1508</td>\n",
              "    </tr>\n",
              "  </tbody>\n",
              "</table>\n",
              "</div>\n",
              "      <button class=\"colab-df-convert\" onclick=\"convertToInteractive('df-3d4376c2-b131-4c18-b6a1-c915ff2ffa68')\"\n",
              "              title=\"Convert this dataframe to an interactive table.\"\n",
              "              style=\"display:none;\">\n",
              "        \n",
              "  <svg xmlns=\"http://www.w3.org/2000/svg\" height=\"24px\"viewBox=\"0 0 24 24\"\n",
              "       width=\"24px\">\n",
              "    <path d=\"M0 0h24v24H0V0z\" fill=\"none\"/>\n",
              "    <path d=\"M18.56 5.44l.94 2.06.94-2.06 2.06-.94-2.06-.94-.94-2.06-.94 2.06-2.06.94zm-11 1L8.5 8.5l.94-2.06 2.06-.94-2.06-.94L8.5 2.5l-.94 2.06-2.06.94zm10 10l.94 2.06.94-2.06 2.06-.94-2.06-.94-.94-2.06-.94 2.06-2.06.94z\"/><path d=\"M17.41 7.96l-1.37-1.37c-.4-.4-.92-.59-1.43-.59-.52 0-1.04.2-1.43.59L10.3 9.45l-7.72 7.72c-.78.78-.78 2.05 0 2.83L4 21.41c.39.39.9.59 1.41.59.51 0 1.02-.2 1.41-.59l7.78-7.78 2.81-2.81c.8-.78.8-2.07 0-2.86zM5.41 20L4 18.59l7.72-7.72 1.47 1.35L5.41 20z\"/>\n",
              "  </svg>\n",
              "      </button>\n",
              "      \n",
              "  <style>\n",
              "    .colab-df-container {\n",
              "      display:flex;\n",
              "      flex-wrap:wrap;\n",
              "      gap: 12px;\n",
              "    }\n",
              "\n",
              "    .colab-df-convert {\n",
              "      background-color: #E8F0FE;\n",
              "      border: none;\n",
              "      border-radius: 50%;\n",
              "      cursor: pointer;\n",
              "      display: none;\n",
              "      fill: #1967D2;\n",
              "      height: 32px;\n",
              "      padding: 0 0 0 0;\n",
              "      width: 32px;\n",
              "    }\n",
              "\n",
              "    .colab-df-convert:hover {\n",
              "      background-color: #E2EBFA;\n",
              "      box-shadow: 0px 1px 2px rgba(60, 64, 67, 0.3), 0px 1px 3px 1px rgba(60, 64, 67, 0.15);\n",
              "      fill: #174EA6;\n",
              "    }\n",
              "\n",
              "    [theme=dark] .colab-df-convert {\n",
              "      background-color: #3B4455;\n",
              "      fill: #D2E3FC;\n",
              "    }\n",
              "\n",
              "    [theme=dark] .colab-df-convert:hover {\n",
              "      background-color: #434B5C;\n",
              "      box-shadow: 0px 1px 3px 1px rgba(0, 0, 0, 0.15);\n",
              "      filter: drop-shadow(0px 1px 2px rgba(0, 0, 0, 0.3));\n",
              "      fill: #FFFFFF;\n",
              "    }\n",
              "  </style>\n",
              "\n",
              "      <script>\n",
              "        const buttonEl =\n",
              "          document.querySelector('#df-3d4376c2-b131-4c18-b6a1-c915ff2ffa68 button.colab-df-convert');\n",
              "        buttonEl.style.display =\n",
              "          google.colab.kernel.accessAllowed ? 'block' : 'none';\n",
              "\n",
              "        async function convertToInteractive(key) {\n",
              "          const element = document.querySelector('#df-3d4376c2-b131-4c18-b6a1-c915ff2ffa68');\n",
              "          const dataTable =\n",
              "            await google.colab.kernel.invokeFunction('convertToInteractive',\n",
              "                                                     [key], {});\n",
              "          if (!dataTable) return;\n",
              "\n",
              "          const docLinkHtml = 'Like what you see? Visit the ' +\n",
              "            '<a target=\"_blank\" href=https://colab.research.google.com/notebooks/data_table.ipynb>data table notebook</a>'\n",
              "            + ' to learn more about interactive tables.';\n",
              "          element.innerHTML = '';\n",
              "          dataTable['output_type'] = 'display_data';\n",
              "          await google.colab.output.renderOutput(dataTable, element);\n",
              "          const docLink = document.createElement('div');\n",
              "          docLink.innerHTML = docLinkHtml;\n",
              "          element.appendChild(docLink);\n",
              "        }\n",
              "      </script>\n",
              "    </div>\n",
              "  </div>\n",
              "  "
            ]
          },
          "metadata": {},
          "execution_count": 16
        }
      ]
    }
  ]
}